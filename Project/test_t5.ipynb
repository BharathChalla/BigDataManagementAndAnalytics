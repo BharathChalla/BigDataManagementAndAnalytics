{
 "cells": [
  {
   "cell_type": "code",
   "execution_count": 7,
   "outputs": [
    {
     "name": "stdout",
     "output_type": "stream",
     "text": [
      "env: HADOOP_HOME=D:\\DevEnv\\Hadoop\\spark-3.3.1-bin-hadoop3\n",
      "env: SPARK_HOME=D:\\DevEnv\\Hadoop\\spark-3.3.1-bin-hadoop3\n",
      "env: KAFKA_HOME=D:\\DevEnv\\Kafka\\kafka_2.13-3.3.1\n",
      "HADOOP_HOME=D:\\DevEnv\\Hadoop\\spark-3.3.1-bin-hadoop3\n",
      "D:\\DevEnv\\mambaforge\\envs\\CS6350BD-Proj;D:\\DevEnv\\mambaforge\\envs\\CS6350BD-Proj\\Library\\mingw-w64\\bin;D:\\DevEnv\\mambaforge\\envs\\CS6350BD-Proj\\Library\\usr\\bin;D:\\DevEnv\\mambaforge\\envs\\CS6350BD-Proj\\Library\\bin;D:\\DevEnv\\mambaforge\\envs\\CS6350BD-Proj\\Scripts;D:\\DevEnv\\mambaforge\\envs\\CS6350BD-Proj\\bin;D:\\DevEnv\\mambaforge\\condabin;C:\\Program Files (x86)\\Common Files\\Oracle\\Java\\javapath;C:\\windows\\system32;C:\\windows;C:\\windows\\System32\\Wbem;C:\\windows\\System32\\WindowsPowerShell\\v1.0;C:\\windows\\System32\\OpenSSH;C:\\MATLAB\\R2021b\\runtime\\win64;C:\\MATLAB\\R2021b\\bin;C:\\Program Files\\Git\\cmd;C:\\Users\\bxc200008\\AppData\\Local\\Microsoft\\WindowsApps;C:\\Users\\bxc200008\\AppData\\Local\\JetBrains\\Toolbox\\scripts;.\n"
     ]
    }
   ],
   "source": [
    "%env HADOOP_HOME=D:\\DevEnv\\Hadoop\\spark-3.3.1-bin-hadoop3\n",
    "%env SPARK_HOME=D:\\DevEnv\\Hadoop\\spark-3.3.1-bin-hadoop3\n",
    "%env KAFKA_HOME=D:\\DevEnv\\Kafka\\kafka_2.13-3.3.1\n",
    "# %env PATH=%PATH%;%HADOOP_HOME%\\bin;\n",
    "#\n",
    "!set HADOOP_HOME\n",
    "!echo %PATH%"
   ],
   "metadata": {
    "collapsed": false
   }
  },
  {
   "cell_type": "code",
   "execution_count": 8,
   "outputs": [
    {
     "name": "stdout",
     "output_type": "stream",
     "text": [
      "D:\\DevEnv\\Hadoop\\spark-3.3.1-bin-hadoop3\n",
      "D:\\DevEnv\\Hadoop\\spark-3.3.1-bin-hadoop3\n",
      "D:\\DevEnv\\mambaforge\\envs\\CS6350BD-Proj;D:\\DevEnv\\mambaforge\\envs\\CS6350BD-Proj\\Library\\mingw-w64\\bin;D:\\DevEnv\\mambaforge\\envs\\CS6350BD-Proj\\Library\\usr\\bin;D:\\DevEnv\\mambaforge\\envs\\CS6350BD-Proj\\Library\\bin;D:\\DevEnv\\mambaforge\\envs\\CS6350BD-Proj\\Scripts;D:\\DevEnv\\mambaforge\\envs\\CS6350BD-Proj\\bin;D:\\DevEnv\\mambaforge\\condabin;C:\\Program Files (x86)\\Common Files\\Oracle\\Java\\javapath;C:\\windows\\system32;C:\\windows;C:\\windows\\System32\\Wbem;C:\\windows\\System32\\WindowsPowerShell\\v1.0;C:\\windows\\System32\\OpenSSH;C:\\MATLAB\\R2021b\\runtime\\win64;C:\\MATLAB\\R2021b\\bin;C:\\Program Files\\Git\\cmd;C:\\Users\\bxc200008\\AppData\\Local\\Microsoft\\WindowsApps;C:\\Users\\bxc200008\\AppData\\Local\\JetBrains\\Toolbox\\scripts;.\n"
     ]
    }
   ],
   "source": [
    "import os\n",
    "print(os.environ['HADOOP_HOME'])\n",
    "print(os.environ['SPARK_HOME'])\n",
    "# print(os.environ['JAVA_HOME'])\n",
    "print(os.environ['PATH'])"
   ],
   "metadata": {
    "collapsed": false
   }
  },
  {
   "cell_type": "code",
   "execution_count": 2,
   "metadata": {
    "collapsed": true
   },
   "outputs": [],
   "source": [
    "from pyspark.sql import SparkSession\n",
    "\n",
    "spark = SparkSession.builder \\\n",
    "    .appName(\"Spark NLP\")\\\n",
    "    .master(\"local[*]\")\\\n",
    "    .config(\"spark.driver.memory\",\"16G\")\\\n",
    "    .config(\"spark.driver.maxResultSize\", \"0\") \\\n",
    "    .config(\"spark.kryoserializer.buffer.max\", \"2000M\")\\\n",
    "    .config(\"spark.jars.packages\", \"com.johnsnowlabs.nlp:spark-nlp_2.12:4.2.3\")\\\n",
    "    .getOrCreate()\n"
   ]
  },
  {
   "cell_type": "code",
   "execution_count": 3,
   "outputs": [
    {
     "name": "stdout",
     "output_type": "stream",
     "text": [
      "Transaction\n",
      "\n",
      "  Prefix: D:\\DevEnv\\mambaforge\\envs\\CS6350BD-Proj\n",
      "\n",
      "  All requested packages already installed\n",
      "\n",
      "\n",
      "Looking for: ['spark-nlp']\n",
      "\n",
      "\n",
      "Pinned packages:\n",
      "  - python 3.9.*\n",
      "\n",
      "\n"
     ]
    }
   ],
   "source": [],
   "metadata": {
    "collapsed": false
   }
  }
 ],
 "metadata": {
  "kernelspec": {
   "display_name": "Python 3",
   "language": "python",
   "name": "python3"
  },
  "language_info": {
   "codemirror_mode": {
    "name": "ipython",
    "version": 2
   },
   "file_extension": ".py",
   "mimetype": "text/x-python",
   "name": "python",
   "nbconvert_exporter": "python",
   "pygments_lexer": "ipython2",
   "version": "2.7.6"
  }
 },
 "nbformat": 4,
 "nbformat_minor": 0
}
