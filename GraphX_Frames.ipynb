{
 "cells": [
  {
   "cell_type": "code",
   "source": [
    "\t\t\n",
    "from graphframes import *\n",
    "\n",
    "# Vertex DataFrame\n",
    "v = sqlContext.createDataFrame([\n",
    "  (1, \"Alice\", 28),\n",
    "  (2, \"Bob\", 27),\n",
    "  (3, \"Charlie\", 65),\n",
    "  (4, \"David\", 42),\n",
    "  (5, \"Ed\", 55),\n",
    "  (6, \"Fran\", 50)\n",
    "], [\"id\", \"name\", \"age\"])\n",
    "\n",
    "# Edge DataFrame\n",
    "e = sqlContext.createDataFrame([\n",
    "(2, 1, 7),     \n",
    "(2, 4, 2),    \n",
    "(3, 2, 4),    \n",
    "(3, 6, 3),    \n",
    "(4, 1, 1),    \n",
    "(5, 2, 2),    \n",
    "(5, 3, 8),    \n",
    "(5, 6, 3),\n",
    "(3, 5, 1),\n",
    "], [\"src\", \"dst\", \"likes\"])\n",
    "\n",
    "# Create a GraphFrame\n",
    "g = GraphFrame(v, e)"
   ],
   "metadata": {
    "application/vnd.databricks.v1+cell": {
     "showTitle": false,
     "cellMetadata": {},
     "nuid": "4bd56ad7-1f3a-4e06-a722-6713a0161761",
     "inputWidgets": {},
     "title": ""
    }
   },
   "outputs": [],
   "execution_count": 0
  },
  {
   "cell_type": "code",
   "source": [
    "g.vertices.show()"
   ],
   "metadata": {
    "application/vnd.databricks.v1+cell": {
     "showTitle": false,
     "cellMetadata": {},
     "nuid": "82b2e120-9f34-4a43-94d9-a0af4a5d4fed",
     "inputWidgets": {},
     "title": ""
    }
   },
   "outputs": [
    {
     "output_type": "stream",
     "name": "stdout",
     "text": [
      "+---+-------+---+\n| id|   name|age|\n+---+-------+---+\n|  1|  Alice| 28|\n|  2|    Bob| 27|\n|  3|Charlie| 65|\n|  4|  David| 42|\n|  5|     Ed| 55|\n|  6|   Fran| 50|\n+---+-------+---+\n\n"
     ]
    }
   ],
   "execution_count": 0
  },
  {
   "cell_type": "code",
   "source": [
    "g.vertices.filter(\"age > 50\").show()"
   ],
   "metadata": {
    "application/vnd.databricks.v1+cell": {
     "showTitle": false,
     "cellMetadata": {},
     "nuid": "0275a73b-e1f5-43d7-8328-a8e8e1632eda",
     "inputWidgets": {},
     "title": ""
    }
   },
   "outputs": [
    {
     "output_type": "stream",
     "name": "stdout",
     "text": [
      "+---+-------+---+\n| id|   name|age|\n+---+-------+---+\n|  3|Charlie| 65|\n|  5|     Ed| 55|\n+---+-------+---+\n\n"
     ]
    }
   ],
   "execution_count": 0
  },
  {
   "cell_type": "code",
   "source": [
    "g.triplets.count()"
   ],
   "metadata": {
    "application/vnd.databricks.v1+cell": {
     "showTitle": false,
     "cellMetadata": {},
     "nuid": "eca2c62d-7495-4f06-852a-200475d4488d",
     "inputWidgets": {},
     "title": ""
    }
   },
   "outputs": [
    {
     "output_type": "stream",
     "name": "stdout",
     "text": [
      "Out[16]: 8"
     ]
    }
   ],
   "execution_count": 0
  },
  {
   "cell_type": "code",
   "source": [
    "g.triplets.show()"
   ],
   "metadata": {
    "application/vnd.databricks.v1+cell": {
     "showTitle": false,
     "cellMetadata": {},
     "nuid": "248e2917-c07a-434f-9595-cb8bf0efb5f7",
     "inputWidgets": {},
     "title": ""
    }
   },
   "outputs": [
    {
     "output_type": "stream",
     "name": "stdout",
     "text": [
      "+----------------+---------+----------------+\n|             src|     edge|             dst|\n+----------------+---------+----------------+\n|  {4, David, 42}|{4, 1, 1}|  {1, Alice, 28}|\n|    {2, Bob, 27}|{2, 1, 7}|  {1, Alice, 28}|\n|     {5, Ed, 55}|{5, 2, 2}|    {2, Bob, 27}|\n|{3, Charlie, 65}|{3, 2, 4}|    {2, Bob, 27}|\n|     {5, Ed, 55}|{5, 3, 8}|{3, Charlie, 65}|\n|    {2, Bob, 27}|{2, 4, 2}|  {4, David, 42}|\n|     {5, Ed, 55}|{5, 6, 3}|   {6, Fran, 50}|\n|{3, Charlie, 65}|{3, 6, 3}|   {6, Fran, 50}|\n+----------------+---------+----------------+\n\n"
     ]
    }
   ],
   "execution_count": 0
  },
  {
   "cell_type": "code",
   "source": [
    "# Q5\n",
    "g.triangleCount().show()"
   ],
   "metadata": {
    "application/vnd.databricks.v1+cell": {
     "showTitle": false,
     "cellMetadata": {},
     "nuid": "1faf7324-5578-412b-956d-a8eabb7504a4",
     "inputWidgets": {},
     "title": ""
    }
   },
   "outputs": [
    {
     "output_type": "stream",
     "name": "stdout",
     "text": [
      "+-----+---+-------+---+\n|count| id|   name|age|\n+-----+---+-------+---+\n|    1|  1|  Alice| 28|\n|    2|  2|    Bob| 27|\n|    2|  3|Charlie| 65|\n|    1|  4|  David| 42|\n|    2|  5|     Ed| 55|\n|    1|  6|   Fran| 50|\n+-----+---+-------+---+\n\n"
     ]
    }
   ],
   "execution_count": 0
  },
  {
   "cell_type": "code",
   "source": [
    "# Q6\n",
    "import pyspark.sql.functions as sf\n",
    "\n",
    "\n",
    "joined = g.edges.join(g.vertices, g.edges.src == g.vertices.id)\n",
    "joined.show()\n",
    "joined.groupBy([\"name\", \"id\"]).agg(sf.sum(\"likes\").alias(\"outLikes\")).orderBy(sf.desc(\"outLikes\")).show()\n",
    "type(sf.sum(\"likes\"))\n",
    "type(joined.groupBy([\"name\", \"id\"]).sum(\"likes\"))"
   ],
   "metadata": {
    "application/vnd.databricks.v1+cell": {
     "showTitle": false,
     "cellMetadata": {},
     "nuid": "58fc8cd2-a3a0-462d-87e9-04250571e9d8",
     "inputWidgets": {},
     "title": ""
    }
   },
   "outputs": [
    {
     "output_type": "stream",
     "name": "stdout",
     "text": [
      "+---+---+-----+---+-------+---+\n|src|dst|likes| id|   name|age|\n+---+---+-----+---+-------+---+\n|  2|  1|    7|  2|    Bob| 27|\n|  2|  4|    2|  2|    Bob| 27|\n|  3|  2|    4|  3|Charlie| 65|\n|  3|  6|    3|  3|Charlie| 65|\n|  4|  1|    1|  4|  David| 42|\n|  5|  2|    2|  5|     Ed| 55|\n|  5|  3|    8|  5|     Ed| 55|\n|  5|  6|    3|  5|     Ed| 55|\n+---+---+-----+---+-------+---+\n\n+-------+---+--------+\n|   name| id|outLikes|\n+-------+---+--------+\n|     Ed|  5|      13|\n|    Bob|  2|       9|\n|Charlie|  3|       7|\n|  David|  4|       1|\n+-------+---+--------+\n\nOut[61]: pyspark.sql.dataframe.DataFrame"
     ]
    }
   ],
   "execution_count": 0
  },
  {
   "cell_type": "code",
   "source": [
    "# Q7\n",
    "results = g.pageRank(maxIter = 10)\n",
    "results.vertices.orderBy(desc(\"pagerank\")).show()"
   ],
   "metadata": {
    "application/vnd.databricks.v1+cell": {
     "showTitle": false,
     "cellMetadata": {},
     "nuid": "b540ae3f-0908-492f-83e8-e07aca84c135",
     "inputWidgets": {},
     "title": ""
    }
   },
   "outputs": [
    {
     "output_type": "stream",
     "name": "stdout",
     "text": [
      "+---+-------+---+------------------+\n| id|   name|age|          pagerank|\n+---+-------+---+------------------+\n|  1|  Alice| 28|1.7924127957615186|\n|  2|    Bob| 27|0.9969646507526428|\n|  6|   Fran| 50|0.9969646507526428|\n|  4|  David| 42|0.9688717814927128|\n|  3|Charlie| 65|0.6996243163176442|\n|  5|     Ed| 55|0.5451618049228396|\n+---+-------+---+------------------+\n\n"
     ]
    }
   ],
   "execution_count": 0
  },
  {
   "cell_type": "code",
   "source": [
    "# Q8\n",
    "joined = g.edges.join(g.vertices, g.edges.dst == g.vertices.id)\n",
    "joined.show()\n",
    "joined.groupBy(\"name\").count().filter(\"name == 'Bob'\").show()"
   ],
   "metadata": {
    "application/vnd.databricks.v1+cell": {
     "showTitle": false,
     "cellMetadata": {},
     "nuid": "66de8670-57e3-49a6-afff-b34d6292e168",
     "inputWidgets": {},
     "title": ""
    }
   },
   "outputs": [
    {
     "output_type": "stream",
     "name": "stdout",
     "text": [
      "+---+---+-----+---+-------+---+\n|src|dst|likes| id|   name|age|\n+---+---+-----+---+-------+---+\n|  2|  1|    7|  1|  Alice| 28|\n|  4|  1|    1|  1|  Alice| 28|\n|  3|  2|    4|  2|    Bob| 27|\n|  5|  2|    2|  2|    Bob| 27|\n|  5|  3|    8|  3|Charlie| 65|\n|  2|  4|    2|  4|  David| 42|\n|  3|  6|    3|  6|   Fran| 50|\n|  5|  6|    3|  6|   Fran| 50|\n+---+---+-----+---+-------+---+\n\n+----+-----+\n|name|count|\n+----+-----+\n| Bob|    2|\n+----+-----+\n\n"
     ]
    }
   ],
   "execution_count": 0
  },
  {
   "cell_type": "code",
   "source": [
    "joined = g.edges.join(g.vertices, g.edges.dst == g.vertices.id)\n",
    "joined.groupBy(\"name\").sum(\"likes\").show()"
   ],
   "metadata": {
    "application/vnd.databricks.v1+cell": {
     "showTitle": false,
     "cellMetadata": {},
     "nuid": "ff98ba42-b27c-4dbb-a619-32c2ad0e69af",
     "inputWidgets": {},
     "title": ""
    }
   },
   "outputs": [
    {
     "output_type": "stream",
     "name": "stdout",
     "text": [
      "+-------+----------+\n|   name|sum(likes)|\n+-------+----------+\n|Charlie|         8|\n|    Bob|         6|\n|  Alice|         8|\n|  David|         2|\n|   Fran|         6|\n+-------+----------+\n\n"
     ]
    }
   ],
   "execution_count": 0
  },
  {
   "cell_type": "code",
   "source": [
    "motifs = g.find(\"(a)-[e]->(b); (b)-[e2]->(a)\")\n",
    "motifs.show()"
   ],
   "metadata": {
    "application/vnd.databricks.v1+cell": {
     "showTitle": false,
     "cellMetadata": {},
     "nuid": "d4409e02-395a-46f5-b517-a015b07cf88e",
     "inputWidgets": {},
     "title": ""
    }
   },
   "outputs": [
    {
     "output_type": "stream",
     "name": "stdout",
     "text": [
      "+----------------+---------+----------------+---------+\n|               a|        e|               b|       e2|\n+----------------+---------+----------------+---------+\n|{3, Charlie, 65}|{3, 5, 1}|     {5, Ed, 55}|{5, 3, 8}|\n|     {5, Ed, 55}|{5, 3, 8}|{3, Charlie, 65}|{3, 5, 1}|\n+----------------+---------+----------------+---------+\n\n"
     ]
    }
   ],
   "execution_count": 0
  },
  {
   "cell_type": "code",
   "source": [
    "# Q10\n",
    "results = g.shortestPaths(landmarks=[\"1\", \"2\"])\n",
    "results.select(\"id\", \"distances\").show()"
   ],
   "metadata": {
    "application/vnd.databricks.v1+cell": {
     "showTitle": false,
     "cellMetadata": {},
     "nuid": "12e1e941-c4f3-46c8-905b-887b412ed287",
     "inputWidgets": {},
     "title": ""
    }
   },
   "outputs": [
    {
     "output_type": "stream",
     "name": "stdout",
     "text": [
      "+---+----------------+\n| id|       distances|\n+---+----------------+\n|  1|        {1 -> 0}|\n|  2|{2 -> 0, 1 -> 1}|\n|  3|{2 -> 1, 1 -> 2}|\n|  4|        {1 -> 1}|\n|  5|{2 -> 1, 1 -> 2}|\n|  6|              {}|\n+---+----------------+\n\n"
     ]
    }
   ],
   "execution_count": 0
  },
  {
   "cell_type": "code",
   "source": [
    "results = g.shortestPaths(to=[\"1\"]) \n",
    "results.select(\"id\", \"path\").show()"
   ],
   "metadata": {
    "application/vnd.databricks.v1+cell": {
     "showTitle": false,
     "cellMetadata": {},
     "nuid": "032d27fb-39d8-40d6-a02e-2848dc675b5f",
     "inputWidgets": {},
     "title": ""
    }
   },
   "outputs": [
    {
     "output_type": "display_data",
     "metadata": {
      "application/vnd.databricks.v1+output": {
       "data": "\u001B[0;31m---------------------------------------------------------------------------\u001B[0m\n\u001B[0;31mTypeError\u001B[0m                                 Traceback (most recent call last)\n\u001B[0;32m<command-479980166246984>\u001B[0m in \u001B[0;36m<module>\u001B[0;34m\u001B[0m\n\u001B[0;32m----> 1\u001B[0;31m \u001B[0mresults\u001B[0m \u001B[0;34m=\u001B[0m \u001B[0mg\u001B[0m\u001B[0;34m.\u001B[0m\u001B[0mshortestPaths\u001B[0m\u001B[0;34m(\u001B[0m\u001B[0mto\u001B[0m\u001B[0;34m=\u001B[0m\u001B[0;34m[\u001B[0m\u001B[0;34m\"1\"\u001B[0m\u001B[0;34m]\u001B[0m\u001B[0;34m)\u001B[0m\u001B[0;34m\u001B[0m\u001B[0;34m\u001B[0m\u001B[0m\n\u001B[0m\u001B[1;32m      2\u001B[0m \u001B[0mresults\u001B[0m\u001B[0;34m.\u001B[0m\u001B[0mselect\u001B[0m\u001B[0;34m(\u001B[0m\u001B[0;34m\"id\"\u001B[0m\u001B[0;34m,\u001B[0m \u001B[0;34m\"path\"\u001B[0m\u001B[0;34m)\u001B[0m\u001B[0;34m.\u001B[0m\u001B[0mshow\u001B[0m\u001B[0;34m(\u001B[0m\u001B[0;34m)\u001B[0m\u001B[0;34m\u001B[0m\u001B[0;34m\u001B[0m\u001B[0m\n\n\u001B[0;31mTypeError\u001B[0m: shortestPaths() got an unexpected keyword argument 'to'",
       "errorSummary": "<span class='ansi-red-fg'>TypeError</span>: shortestPaths() got an unexpected keyword argument 'to'",
       "metadata": {},
       "errorTraceType": "ansi",
       "type": "ipynbError",
       "arguments": {}
      }
     },
     "data": {
      "text/plain": [
       "\u001B[0;31m---------------------------------------------------------------------------\u001B[0m\n",
       "\u001B[0;31mTypeError\u001B[0m                                 Traceback (most recent call last)\n",
       "\u001B[0;32m<command-479980166246984>\u001B[0m in \u001B[0;36m<module>\u001B[0;34m\u001B[0m\n",
       "\u001B[0;32m----> 1\u001B[0;31m \u001B[0mresults\u001B[0m \u001B[0;34m=\u001B[0m \u001B[0mg\u001B[0m\u001B[0;34m.\u001B[0m\u001B[0mshortestPaths\u001B[0m\u001B[0;34m(\u001B[0m\u001B[0mto\u001B[0m\u001B[0;34m=\u001B[0m\u001B[0;34m[\u001B[0m\u001B[0;34m\"1\"\u001B[0m\u001B[0;34m]\u001B[0m\u001B[0;34m)\u001B[0m\u001B[0;34m\u001B[0m\u001B[0;34m\u001B[0m\u001B[0m\n",
       "\u001B[0m\u001B[1;32m      2\u001B[0m \u001B[0mresults\u001B[0m\u001B[0;34m.\u001B[0m\u001B[0mselect\u001B[0m\u001B[0;34m(\u001B[0m\u001B[0;34m\"id\"\u001B[0m\u001B[0;34m,\u001B[0m \u001B[0;34m\"path\"\u001B[0m\u001B[0;34m)\u001B[0m\u001B[0;34m.\u001B[0m\u001B[0mshow\u001B[0m\u001B[0;34m(\u001B[0m\u001B[0;34m)\u001B[0m\u001B[0;34m\u001B[0m\u001B[0;34m\u001B[0m\u001B[0m\n",
       "\n",
       "\u001B[0;31mTypeError\u001B[0m: shortestPaths() got an unexpected keyword argument 'to'"
      ]
     }
    }
   ],
   "execution_count": 0
  }
 ],
 "metadata": {
  "application/vnd.databricks.v1+notebook": {
   "notebookName": "CS6350_GraphX_Quiz",
   "dashboards": [],
   "notebookMetadata": {
    "pythonIndentUnit": 4
   },
   "language": "python",
   "widgets": {}
  }
 },
 "nbformat": 4,
 "nbformat_minor": 0
}
